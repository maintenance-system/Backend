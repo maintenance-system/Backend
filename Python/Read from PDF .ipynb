{
 "cells": [
  {
   "cell_type": "code",
   "execution_count": 2,
   "id": "663b0204",
   "metadata": {},
   "outputs": [
    {
     "name": "stdout",
     "output_type": "stream",
     "text": [
      "Collecting virtualenv\n",
      "  Downloading virtualenv-20.23.0-py3-none-any.whl (3.3 MB)\n",
      "Collecting platformdirs<4,>=3.2\n",
      "  Downloading platformdirs-3.5.1-py3-none-any.whl (15 kB)\n",
      "Collecting filelock<4,>=3.11\n",
      "  Downloading filelock-3.12.0-py3-none-any.whl (10 kB)\n",
      "Collecting distlib<1,>=0.3.6\n",
      "  Downloading distlib-0.3.6-py2.py3-none-any.whl (468 kB)\n",
      "Installing collected packages: platformdirs, filelock, distlib, virtualenv\n",
      "  Attempting uninstall: filelock\n",
      "    Found existing installation: filelock 3.3.1\n",
      "    Uninstalling filelock-3.3.1:\n",
      "      Successfully uninstalled filelock-3.3.1\n",
      "Successfully installed distlib-0.3.6 filelock-3.12.0 platformdirs-3.5.1 virtualenv-20.23.0\n"
     ]
    }
   ],
   "source": [
    "!pip install virtualenv"
   ]
  },
  {
   "cell_type": "code",
   "execution_count": 3,
   "id": "72a07a09",
   "metadata": {
    "scrolled": true
   },
   "outputs": [
    {
     "name": "stdout",
     "output_type": "stream",
     "text": [
      "Collecting PyMuPDF\n",
      "  Downloading PyMuPDF-1.22.3-cp39-cp39-win_amd64.whl (11.8 MB)\n",
      "Installing collected packages: PyMuPDF\n",
      "Successfully installed PyMuPDF-1.22.3\n"
     ]
    }
   ],
   "source": [
    "!pip install PyMuPDF"
   ]
  },
  {
   "cell_type": "code",
   "execution_count": 4,
   "id": "4b56ab09",
   "metadata": {},
   "outputs": [
    {
     "name": "stdout",
     "output_type": "stream",
     "text": [
      "Collecting PyPDF2\n",
      "  Downloading pypdf2-3.0.1-py3-none-any.whl (232 kB)\n",
      "Requirement already satisfied: typing_extensions>=3.10.0.0 in c:\\programdata\\anaconda3\\lib\\site-packages (from PyPDF2) (3.10.0.2)\n",
      "Installing collected packages: PyPDF2\n",
      "Successfully installed PyPDF2-3.0.1\n"
     ]
    }
   ],
   "source": [
    "!pip install PyPDF2"
   ]
  },
  {
   "cell_type": "code",
   "execution_count": 5,
   "id": "94f11f9c",
   "metadata": {},
   "outputs": [],
   "source": [
    "from flask import Flask"
   ]
  },
  {
   "cell_type": "code",
   "execution_count": 6,
   "id": "a83981de",
   "metadata": {},
   "outputs": [],
   "source": [
    "import fitz"
   ]
  },
  {
   "cell_type": "code",
   "execution_count": 7,
   "id": "2ba87a33",
   "metadata": {},
   "outputs": [],
   "source": [
    "import PyPDF2"
   ]
  },
  {
   "cell_type": "code",
   "execution_count": 58,
   "id": "b0ed2ab3",
   "metadata": {},
   "outputs": [
    {
     "name": "stdout",
     "output_type": "stream",
     "text": [
      " * Serving Flask app \"__main__\" (lazy loading)\n",
      " * Environment: production\n",
      "\u001b[31m   WARNING: This is a development server. Do not use it in a production deployment.\u001b[0m\n",
      "\u001b[2m   Use a production WSGI server instead.\u001b[0m\n",
      " * Debug mode: off\n"
     ]
    },
    {
     "name": "stderr",
     "output_type": "stream",
     "text": [
      " * Running on http://127.0.0.1:5000/ (Press CTRL+C to quit)\n",
      "127.0.0.1 - - [19/May/2023 11:21:30] \"GET / HTTP/1.1\" 200 -\n",
      "127.0.0.1 - - [19/May/2023 11:21:30] \"GET /favicon.ico HTTP/1.1\" 404 -\n",
      "127.0.0.1 - - [19/May/2023 11:21:44] \"GET / HTTP/1.1\" 200 -\n"
     ]
    }
   ],
   "source": [
    "# Importing flask module in the project is mandatory\n",
    "# An object of Flask class is our WSGI application.\n",
    "from flask import Flask\n",
    "\n",
    "# Flask constructor takes the name of\n",
    "# current module (__name__) as argument.\n",
    "app = Flask(__name__)\n",
    "\n",
    "# The route() function of the Flask class is a decorator,\n",
    "# which tells the application which URL should call\n",
    "# the associated function.\n",
    "@app.route('/')\n",
    "# ‘/’ URL is bound with hello_world() function.\n",
    "def hello_world():\n",
    "    return readPDF()\n",
    "\n",
    "# main driver function\n",
    "if __name__ == '__main__':\n",
    "\n",
    "    # run() method of Flask class runs the application\n",
    "    # on the local development server.\n",
    "    app.run()\n"
   ]
  },
  {
   "cell_type": "code",
   "execution_count": null,
   "id": "a4cd58de",
   "metadata": {},
   "outputs": [],
   "source": []
  },
  {
   "cell_type": "code",
   "execution_count": 56,
   "id": "46622e63",
   "metadata": {},
   "outputs": [],
   "source": [
    "def readPDF():\n",
    "    with open (r'H:\\Final Project\\בריאות.pdf', 'rb') as file:\n",
    "        pdf = PyPDF2.PdfReader(file)\n",
    "        num_pages = len(pdf.pages)\n",
    "    \n",
    "        text = ''\n",
    "        for page_num in range(num_pages):\n",
    "            page = pdf.pages[page_num]\n",
    "            text += page.extract_text().encode('cp1255', errors='ignore').decode('cp1255')\n",
    "        \n",
    "        return text\n"
   ]
  },
  {
   "cell_type": "code",
   "execution_count": 57,
   "id": "60edbd90",
   "metadata": {},
   "outputs": [
    {
     "data": {
      "text/plain": [
       "'1\\n\\x03¬\\x03\\x1d²³¨\\x03´´£¥\\x03²®«¨\\n35\\n\\x03¬\\x03\\x1d²³¨\\x03§££¨¦´\\x03²®«¨\\n\\x03¥²\\n\\x03£´®\\x03\\x12\\x03£\\xa0¡¨\\x03¡±®¨\\x03§³\\n¯££²\\x03£¦\\n²£\\xa0\\x03\\n\\x03\\n\\x03\\x1d¯£¦¨¨\\x03¡±®¨\\x03§³\\n¬³\\x03²\\x03\\x10\\x03§²\\x03´£²\\x03´¥³¦\\n\\x03\\x03\\n\\x03\\x03\\x03\\x03\\x03\\x03\\x03\\x03\\x03\\x03\\x03\\n\\x03\\x03\\x03\\x03\\x03\\n27/10/2022\\n\\x03\\x03\\n\\x03\\x03\\x03\\x03\\x03\\n\\x05®³´\\x03©³¡\\x03\\n\\n\\x03\\x03\\x03\\x03\\x03\\n139108\\n\\x03\\x1d´¥¨«\\n£¡\\x03´«¨\\x03£³²\\x03\\n\\x03\\xad\\x03¥¦\\n\\x03®£¥\\x03²±\\x03\\x0f£³£²\\x03¦£¨\\n£¡\\x03²³¨\\n´£´²´\\x03´¬\\x03´¡\\n\\x03\\n11\\n\\x03±¬£\\x03©\\x03´¦£±\\n\\x03´´¥\\x03\\x03\\n632083\\n\\x03¦¨«\\x03\\x10\\x03\\n11\\n\\x03±¬£\\x03´¦£±\\x03\\x11´¬\\x03¯¬\\n\\x03\\n§£¦£\\x03©\\n8757211\\n\\x03§£±®\\n\\x03\\n\\x03£²´\\n\\x03«¨\\x03¨££±´³\\x03´²±£\\x03«£\\x03¦¬\\x03\\n1969\\n\\x03¼\\n\\x03¢\\x05³´\\x03²®«\\x03£´\\x03¦¬\\x03¡±£®\\x03±¡¦\\x03\\x0b\\x0c\\x03\\n6\\n\\x03\\xad£¬«¦\\x03§´\\n\\x1d£¥\\x03¬±¦\\x03£²\\x03\\x0f\\n24/10/2022\\n\\x03\\x03\\x03\\x03\\x03\\x03\\x03\\x03\\x03\\x03\\x03\\x03\\x03\\x03\\x03\\x03\\x03\\x03\\x03\\x03\\x03\\x03\\x03\\x03\\x03\\x03\\x03\\x03\\x03\\x03\\x03\\x03\\x03\\n´££¡\\n\\x03\\x1d´¬\\x03´\\n¡\\n\\x03\\n\\x06®³´\\n\\x03\\x1d´¬\\x03´¡\\x03\\xad±´\\x03\\n\\x03\\x1d´¬\\x03´¡\\x03¢²®\\x03©¦¦\\n\\x11\\x0b¡¢¨\\x0c\\x03©\\x03§£²±\\x03§£¨\\x03©±´¨\\x03©£±´¦\\x03³£\\x03\\x11\\n1\\n\\x11´¬\\x03¦¥\\x03§£´²£³\\x03£££\\x03£±´¨\\x03£²¨¡\\x03´°¨£\\x03¦\\x03³£\\x03\\x11\\n2\\n\\x11«¨\\x03§£¦£\\x03¦£¦\\x03§£´¨\\x03©£¨\\x03\\xad±´\\x03©£²®£®\\x03²£³¥´\\x03´°¨£¦\\x03¦\\x03«¨\\x03´¦¬\\x03¦¬\\n\\x03£££\\x03´²£¨³\\x03©£±\\x03´²£¨³\\x03\\x0f´¬¨\\x03´®¢³\\x03±\\xa0¡´\\x03\\x1d¦¦¥\\x03\\x0f«¨\\x03£²´\\x03°¨\\x03´²£¨³¦\\x03´£²¡\\n\\x11«¨\\x03´¦¬\\x03¦¬\\x03£\\x03\\x0f´£´£«\\x03´£³£\\n\\x03²³\\x03´£¥´\\x03£®\\x03¦¬\\x03§£££³\\x03¬°\\x03©¥\\x03§\\x03¦\\x03\\x0f«¨\\x03§££¨\\x03§£££³\\x03¥²¬\\x03¦\\x03¬\\x03¦¥\\x03\\xad±´\\x03²³£\\n\\x03\\x11££\\x03¦¬\\x03²³\\n'"
      ]
     },
     "execution_count": 57,
     "metadata": {},
     "output_type": "execute_result"
    }
   ],
   "source": [
    "readPDF()"
   ]
  },
  {
   "cell_type": "code",
   "execution_count": null,
   "id": "8c14b393",
   "metadata": {},
   "outputs": [],
   "source": []
  }
 ],
 "metadata": {
  "kernelspec": {
   "display_name": "Python 3 (ipykernel)",
   "language": "python",
   "name": "python3"
  },
  "language_info": {
   "codemirror_mode": {
    "name": "ipython",
    "version": 3
   },
   "file_extension": ".py",
   "mimetype": "text/x-python",
   "name": "python",
   "nbconvert_exporter": "python",
   "pygments_lexer": "ipython3",
   "version": "3.9.7"
  }
 },
 "nbformat": 4,
 "nbformat_minor": 5
}
