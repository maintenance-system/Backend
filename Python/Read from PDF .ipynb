{
 "cells": [
  {
   "cell_type": "code",
   "execution_count": 1,
   "id": "663b0204",
   "metadata": {},
   "outputs": [
    {
     "name": "stdout",
     "output_type": "stream",
     "text": [
      "Collecting virtualenv\n",
      "  Downloading virtualenv-20.23.0-py3-none-any.whl (3.3 MB)\n",
      "Collecting distlib<1,>=0.3.6\n",
      "  Downloading distlib-0.3.6-py2.py3-none-any.whl (468 kB)\n",
      "Collecting filelock<4,>=3.11\n",
      "  Downloading filelock-3.12.0-py3-none-any.whl (10 kB)\n",
      "Collecting platformdirs<4,>=3.2\n",
      "  Downloading platformdirs-3.5.1-py3-none-any.whl (15 kB)\n",
      "Installing collected packages: platformdirs, filelock, distlib, virtualenv\n",
      "  Attempting uninstall: filelock\n",
      "    Found existing installation: filelock 3.3.1\n",
      "    Uninstalling filelock-3.3.1:\n",
      "      Successfully uninstalled filelock-3.3.1\n",
      "Successfully installed distlib-0.3.6 filelock-3.12.0 platformdirs-3.5.1 virtualenv-20.23.0\n"
     ]
    }
   ],
   "source": [
    "!pip install virtualenv"
   ]
  },
  {
   "cell_type": "code",
   "execution_count": 2,
   "id": "72a07a09",
   "metadata": {
    "scrolled": true
   },
   "outputs": [
    {
     "name": "stdout",
     "output_type": "stream",
     "text": [
      "Collecting PyMuPDF\n",
      "  Downloading PyMuPDF-1.22.3-cp39-cp39-win_amd64.whl (11.8 MB)\n",
      "Installing collected packages: PyMuPDF\n",
      "Successfully installed PyMuPDF-1.22.3\n"
     ]
    }
   ],
   "source": [
    "!pip install PyMuPDF"
   ]
  },
  {
   "cell_type": "code",
   "execution_count": 3,
   "id": "4b56ab09",
   "metadata": {},
   "outputs": [
    {
     "name": "stdout",
     "output_type": "stream",
     "text": [
      "Collecting PyPDF2\n",
      "  Downloading pypdf2-3.0.1-py3-none-any.whl (232 kB)\n",
      "Requirement already satisfied: typing_extensions>=3.10.0.0 in c:\\programdata\\anaconda3\\lib\\site-packages (from PyPDF2) (3.10.0.2)\n",
      "Installing collected packages: PyPDF2\n",
      "Successfully installed PyPDF2-3.0.1\n"
     ]
    }
   ],
   "source": [
    "!pip install PyPDF2"
   ]
  },
  {
   "cell_type": "code",
   "execution_count": 9,
   "id": "99a36eab",
   "metadata": {},
   "outputs": [
    {
     "name": "stdout",
     "output_type": "stream",
     "text": [
      "Collecting pdfplumber\n",
      "  Downloading pdfplumber-0.9.0-py3-none-any.whl (46 kB)\n",
      "Collecting Pillow>=9.1\n",
      "  Downloading Pillow-9.5.0-cp39-cp39-win_amd64.whl (2.5 MB)\n",
      "Collecting pdfminer.six==20221105\n",
      "  Downloading pdfminer.six-20221105-py3-none-any.whl (5.6 MB)\n",
      "Collecting Wand>=0.6.10\n",
      "  Downloading Wand-0.6.11-py2.py3-none-any.whl (143 kB)\n",
      "Requirement already satisfied: charset-normalizer>=2.0.0 in c:\\programdata\\anaconda3\\lib\\site-packages (from pdfminer.six==20221105->pdfplumber) (2.0.4)\n",
      "Collecting cryptography>=36.0.0\n",
      "  Downloading cryptography-40.0.2-cp36-abi3-win_amd64.whl (2.6 MB)\n",
      "Requirement already satisfied: cffi>=1.12 in c:\\programdata\\anaconda3\\lib\\site-packages (from cryptography>=36.0.0->pdfminer.six==20221105->pdfplumber) (1.14.6)\n",
      "Requirement already satisfied: pycparser in c:\\programdata\\anaconda3\\lib\\site-packages (from cffi>=1.12->cryptography>=36.0.0->pdfminer.six==20221105->pdfplumber) (2.20)\n",
      "Installing collected packages: cryptography, Wand, Pillow, pdfminer.six, pdfplumber\n",
      "  Attempting uninstall: cryptography\n",
      "    Found existing installation: cryptography 3.4.8\n",
      "    Uninstalling cryptography-3.4.8:\n",
      "      Successfully uninstalled cryptography-3.4.8\n",
      "  Attempting uninstall: Pillow\n",
      "    Found existing installation: Pillow 8.4.0\n",
      "    Uninstalling Pillow-8.4.0:\n",
      "      Successfully uninstalled Pillow-8.4.0\n",
      "Successfully installed Pillow-9.5.0 Wand-0.6.11 cryptography-40.0.2 pdfminer.six-20221105 pdfplumber-0.9.0\n"
     ]
    }
   ],
   "source": [
    "!pip install pdfplumber"
   ]
  },
  {
   "cell_type": "code",
   "execution_count": 12,
   "id": "6a8198d9",
   "metadata": {},
   "outputs": [
    {
     "name": "stdout",
     "output_type": "stream",
     "text": [
      "Collecting python-bidi\n",
      "  Downloading python_bidi-0.4.2-py2.py3-none-any.whl (30 kB)\n",
      "Requirement already satisfied: six in c:\\programdata\\anaconda3\\lib\\site-packages (from python-bidi) (1.16.0)\n",
      "Installing collected packages: python-bidi\n",
      "Successfully installed python-bidi-0.4.2\n"
     ]
    }
   ],
   "source": [
    "!pip install python-bidi"
   ]
  },
  {
   "cell_type": "code",
   "execution_count": 34,
   "id": "43753dbd",
   "metadata": {},
   "outputs": [
    {
     "name": "stdout",
     "output_type": "stream",
     "text": [
      "Requirement already satisfied: nltk in c:\\programdata\\anaconda3\\lib\\site-packages (3.6.5)\n",
      "Requirement already satisfied: click in c:\\programdata\\anaconda3\\lib\\site-packages (from nltk) (8.0.3)\n",
      "Requirement already satisfied: joblib in c:\\programdata\\anaconda3\\lib\\site-packages (from nltk) (1.1.0)\n",
      "Requirement already satisfied: regex>=2021.8.3 in c:\\programdata\\anaconda3\\lib\\site-packages (from nltk) (2021.8.3)\n",
      "Requirement already satisfied: tqdm in c:\\programdata\\anaconda3\\lib\\site-packages (from nltk) (4.62.3)\n",
      "Requirement already satisfied: colorama in c:\\programdata\\anaconda3\\lib\\site-packages (from click->nltk) (0.4.4)\n"
     ]
    }
   ],
   "source": [
    "!pip install nltk"
   ]
  },
  {
   "cell_type": "code",
   "execution_count": 4,
   "id": "94f11f9c",
   "metadata": {},
   "outputs": [],
   "source": [
    "from flask import Flask"
   ]
  },
  {
   "cell_type": "code",
   "execution_count": 5,
   "id": "a83981de",
   "metadata": {},
   "outputs": [],
   "source": [
    "import fitz"
   ]
  },
  {
   "cell_type": "code",
   "execution_count": 6,
   "id": "2ba87a33",
   "metadata": {},
   "outputs": [],
   "source": [
    "import PyPDF2"
   ]
  },
  {
   "cell_type": "code",
   "execution_count": 23,
   "id": "b0ed2ab3",
   "metadata": {},
   "outputs": [
    {
     "name": "stdout",
     "output_type": "stream",
     "text": [
      " * Serving Flask app \"__main__\" (lazy loading)\n",
      " * Environment: production\n",
      "\u001b[31m   WARNING: This is a development server. Do not use it in a production deployment.\u001b[0m\n",
      "\u001b[2m   Use a production WSGI server instead.\u001b[0m\n",
      " * Debug mode: off\n"
     ]
    },
    {
     "name": "stderr",
     "output_type": "stream",
     "text": [
      " * Running on http://127.0.0.1:5000/ (Press CTRL+C to quit)\n",
      "127.0.0.1 - - [22/May/2023 10:33:36] \"GET / HTTP/1.1\" 200 -\n"
     ]
    }
   ],
   "source": [
    "# Importing flask module in the project is mandatory\n",
    "# An object of Flask class is our WSGI application.\n",
    "from flask import Flask\n",
    "\n",
    "# Flask constructor takes the name of\n",
    "# current module (__name__) as argument.\n",
    "app = Flask(__name__)\n",
    "\n",
    "# The route() function of the Flask class is a decorator,\n",
    "# which tells the application which URL should call\n",
    "# the associated function.\n",
    "@app.route('/')\n",
    "# ‘/’ URL is bound with hello_world() function.\n",
    "def hello_world():\n",
    "    return read_rtl_pdf()\n",
    "\n",
    "# main driver function\n",
    "if __name__ == '__main__':\n",
    "\n",
    "    # run() method of Flask class runs the application\n",
    "    # on the local development server.\n",
    "    app.run()\n"
   ]
  },
  {
   "cell_type": "code",
   "execution_count": null,
   "id": "a4cd58de",
   "metadata": {},
   "outputs": [],
   "source": []
  },
  {
   "cell_type": "code",
   "execution_count": 87,
   "id": "a2f001b0",
   "metadata": {},
   "outputs": [
    {
     "name": "stdout",
     "output_type": "stream",
     "text": [
      " מדינת ישראל\n",
      " משרד החינוך תאריך הדפסה:17/02/2023 \n",
      "המוסד: 632083 עץ הדעת קהילות יעקב  מפקח בטיחות: חרדי\n",
      "הבטחת תנאים בטיחותיים במוסדות חינוך תאריך ביצוע המבדק:15/11/2022 \n",
      "סיבת ביצוע המבדק: בקרה \n",
      "דו''ח סיכום מבדק בגן ילדים\n",
      "המוסד:  632083עץ הדעת קהילות יעקב, קהילות בן יעקב 11 אופקים  מנהל המוסד:   מפקח המוסד: רות סנאור  מספר כיתות:  1 מספר תלמידים:  24\n",
      "משתתף במבדק מטעם שם המשתתף תפקיד\n",
      "גן ילדים נעמה בארי  מזכירת בית הספר \n",
      "ממצאים לפי תחומי בדיקה וקדימות טיפול\n",
      "כללי\n",
      "           .1הממצאים אותרו מתוך השוואת המצב הקיים עם סטנדרטים נדרשים המפורטים ברשימות מנחות לעריכת מבדק המצויות גם ברשויות המקומיות וברשות ממוני הבטיחות המחוזיים.\n",
      "           .2הממצאים ערוכים לפי תחומי בדיקה וקדימות טיפול באופן הבא:\n",
      "א. תחומי בדיקה: קישור הממצא לתחום הנבדק בחלוקה המצויה ברשימות המנחות שצוינו לעיל.\n",
      "ב. קדימות הטיפול: קישור הממצא לקדימות הטיפול על פי הבנתו המקצועית של עורך המבדק, בחלוקה לשלש רמות קדימות אלו:\n",
      "קדימות    :0 מתייחסת למפגע חמור במיוחד, המחייב סגירה מידית של המקום/האתר במוסד החינוך ולאסור שימוש בו עד קבלת הודעה ממנהל הבטיחות ברשות או    \n",
      "                  מנהל המוסד ויועץ  בטיחות מטעם הבעלות על המשך שימוש.\n",
      "קדימות    :1 מתייחסת להסרה של מפגע*  בטיחותי. קיומו של המפגע מחייב את הסרתו המיידית.\n",
      "קדימות    :2 מתייחסת לתיקון ליקוי. גודל הפער בין הממצא לבין הדרישה מוערך כפער. משך הזמן עד לתיקון בפועל של הליקוי יקבע על ידי הרשות.\n",
      "   מבדק זה נערך בהתאם להוראות חוזר מנכ''ל לבטיחות. המבדק שנערך במוסד החינוכי הינו מדגמי בלבד וככזה אינו כולל בהכרח את כל המפגעים.\n",
      "   תוצאות המבדק והמפגעים הרשומים בו נכונים למועד הבדיקה.\n",
      " *מפגע הינו פגם או ליקוי שלפי דעת עורך המבדק הוא מהווה סכנה ברורה ומיידית לפגיעה באדם במגע מקרי או לא מכוון.\n",
      "עמוד 1 מתוך 4 מדינת ישראל\n",
      " משרד החינוך תאריך הדפסה:17/02/2023 \n",
      "המוסד: 632083 עץ הדעת קהילות יעקב  מפקח בטיחות: חרדי\n",
      "אישורי בטיחות\n",
      "מס' תת נושא מספר סעיף תאור התייחסות הערה\n",
      "1 אישורים 1.7 בדיקה שנתית    אמצעי כיבוי  אודות מוכנות מניעת דליקות ע\"י יועץ בטיחות מטעם הבעלות ורשות  לא קיים/לא הוצג\n",
      "הכבאות\n",
      "2 אישורים 1.4.2 בדיקה שנתית    בדיקת מתקני משחקים על ידי מהנדס/הנדסאי שהוכשר ע\"י מכון התקנים לא קיים/לא הוצג\n",
      "3 אישורים 1.4.3 בדיקה אחת ל 3שנים    בדיקת מתקני משחקים על ידי מעבדה מאושרת לא קיים/לא הוצג\n",
      "4 אישורים 1.8 בדיקה אחת ל 5שנים    מערכת חשמל אישור בדיקת התקינות של מערכת החשמל וההארקה ע\"י  לא קיים/לא הוצג\n",
      "חשמלאי בודק מתאים\n",
      "5 אישורים 1.21 בדיקה בהקמת מוסד    סככת הצללה באחריות החב' המתקינה לא קיים/לא הוצג\n",
      "6 אישורים 1.9 בדיקה שנתית   מכשירי חשמל ומתקני חשמל אישור בדיקה ויזואלית לתקינות מכשירי החשמל ומתקני לא קיים/לא הוצג\n",
      "החשמל ע\"י חשמלאי מוסמך ומעלה\n",
      "7 אישורים 1.2 בדיקה אחת ל 5שנים   תקרות תלויות  לפי הצורך במקרה של שקיעה או פגיעה אחרת  ע\"י מהנדס  לא קיים/לא הוצג\n",
      "בניין\n",
      "פירוט הממצאים\n",
      "קדימות1 :\n",
      "מס' נושא הבדיקה תת נושא מספר סעיף סעיף ברשימת מבדק הממצא מיקומו מהותו תמונה\n",
      "1 אלמנטים וחומרים  מפגעים קבועים 5.5   ארונות, ספריות וכונניות יהיו מקובעים למניעת התהפכות. ארון לא מקובע בממ\"ד  הגן וכו סכנת פגיעה  \n",
      "במבנה וניידים\n",
      "2 חצר המוסד שבילים    3.22השבילים משערי הכניסה לבניין, דרכי הגישה והשטחים בחצר  מהמורות שקעים בחצר חולית   סכנת מעידה 399849\n",
      "? כל אלה יהיו סלולים או מרוצפים או  כבושים, ללא מהמורות  וכו  בחצר המתקנים\n",
      "ובליטות, ופניהם מחוספסים, למניעת החלקה.\n",
      "3 חצר המוסד תשתית    3.4לא יהיו מקומות ללא ניקוז מתאים שיאפשרו שלוליות ומים  שלוליות מים  בחצר המתקנים סכנת פגיעה  \n",
      "עומדים. ללא ניקוז \n",
      "עמוד 2 מתוך 4 מדינת ישראל\n",
      " משרד החינוך תאריך הדפסה:17/02/2023 \n",
      "המוסד: 632083 עץ הדעת קהילות יעקב  מפקח בטיחות: חרדי\n",
      "קדימות1 :\n",
      "מס' נושא הבדיקה תת נושא מספר סעיף סעיף ברשימת מבדק הממצא מיקומו מהותו תמונה\n",
      "4 תכולה וארגון הכיתות אחסון חומרי  7.13 כל חומרי הניקוי והחיטוי יוחזקו בארון נפרד ונעול ומפתח הארון  חומרי ניקוי ללא  בארון מטבח  סכנת פגיעה  \n",
      "ניקוי יימצא בידי הגננת, בידי הסייעת ובידי אב הבית בלבד. אם אין  נעילה  בכיתת הגן\n",
      "ארון מיוחד לכך בגן, הם ידאגו, שחומרי הניקוי והחיטוי יימצאו \n",
      "מעבר להישג ידם של הילדים ובנפרד ממזון, וכן שיהיו מאוחסנים \n",
      "באופן שאין חשש של נפילה או שפיכה.\n",
      "קדימות2 :\n",
      "מס' נושא הבדיקה תת נושא מספר סעיף סעיף ברשימת מבדק הממצא מיקומו מהותו תמונה\n",
      "1 תכולה וארגון הכיתות בניין וכיתות גן  7.3  שולחנות ופרטי ריהוט אחרים יהיו בעלי פינות מעוגלות. עשויים  ריהוט  עם פינות  בכיתת הגן   \n",
      "הילדים מחומר לא שביר. חדות  בחלקו\n",
      "הערה לפרטי המסגרת: קהילות יעקב  9 הגננת  נחמה לרר \n",
      "הערות:  \n",
      "סיכום: א. הכיתות  בקומפלקס מבנה גנים , שניה  מימין לשער כניסה לגנים מימין , לגן חצר מתקנים נפרדת .\n",
      "ב לא הוצגו אישורים נדרשים .\n",
      "ג. באחריות ההנהלה/בעלות לוודא  בכול עת קיום /ותקינות אלמנטים  למניעת פגיעה באצבעות בדלתות.\n",
      "ד  לתשומת לב מקבל מבדק זה מבדק/בקרה   מדגמי בלבד ... ואינו בא במקום המבדק  שעל הרשות/בעלות לבצע . \n",
      "בברכה,\n",
      "מבצע המבדק יועץ הבטיחות: רחמים יצחק\n",
      "עמוד 3 מתוך 4 מדינת ישראל\n",
      " משרד החינוך תאריך הדפסה:17/02/2023 \n",
      "המוסד: 632083 עץ הדעת קהילות יעקב  מפקח בטיחות: חרדי\n",
      "קדימות   1 מס'399849 \n",
      "תאור : מהמורות שקעים וכו  \n",
      "עמוד 4 מתוך 4\n"
     ]
    }
   ],
   "source": [
    "import io\n",
    "import pdfplumber\n",
    "from bidi.algorithm import get_display\n",
    "\n",
    "def read_rtl_pdf():\n",
    "    with open(r'H:\\Final Project\\בטיחות.pdf', 'rb') as file:\n",
    "        pdf_data = file.read()\n",
    "        with pdfplumber.open(io.BytesIO(pdf_data)) as pdf:\n",
    "            text = \"\"\n",
    "            for page in pdf.pages:\n",
    "                page_text = page.extract_text()\n",
    "                rtl_text = get_display(page_text)\n",
    "                text += rtl_text\n",
    "                new_text = text.replace(\"Ê\", \" \")\n",
    "\n",
    "    return new_text\n",
    "\n",
    "# Usage example\n",
    "rtl_text = read_rtl_pdf()\n",
    "print(rtl_text)\n"
   ]
  },
  {
   "cell_type": "code",
   "execution_count": 55,
   "id": "75cb1ede",
   "metadata": {},
   "outputs": [],
   "source": [
    "import re"
   ]
  },
  {
   "cell_type": "code",
   "execution_count": 56,
   "id": "59c86a8a",
   "metadata": {},
   "outputs": [
    {
     "name": "stdout",
     "output_type": "stream",
     "text": [
      "Found dates:\n",
      "17/02/2023\n",
      "15/11/2022\n",
      "17/02/2023\n",
      "17/02/2023\n",
      "17/02/2023\n"
     ]
    }
   ],
   "source": [
    "date_pattern = r'\\d{2}/\\d{2}/\\d{4}'\n",
    "dates = re.findall(date_pattern, rtl_text)\n",
    "\n",
    "if dates:\n",
    "    print(\"Found dates:\")\n",
    "    for date in dates:\n",
    "        print(date)\n",
    "else:\n",
    "    print(\"No dates found.\")"
   ]
  },
  {
   "cell_type": "code",
   "execution_count": 62,
   "id": "cbeb7804",
   "metadata": {},
   "outputs": [
    {
     "name": "stdout",
     "output_type": "stream",
     "text": [
      "תאריך הדפסה:\n",
      "17/02/2023\n"
     ]
    }
   ],
   "source": [
    "patterndate = r'תאריך הדפסה:(\\d{2}/\\d{2}/\\d{4})'\n",
    "\n",
    "match = re.search(patterndate, rtl_text)\n",
    "if match:\n",
    "    date = match.group(1)\n",
    "    print(\"תאריך הדפסה:\")\n",
    "    print(date)"
   ]
  },
  {
   "cell_type": "code",
   "execution_count": 90,
   "id": "ebf0ce63",
   "metadata": {},
   "outputs": [
    {
     "name": "stdout",
     "output_type": "stream",
     "text": [
      "סמל מוסד + כתובת\n",
      "['632083עץ הדעת קהילות יעקב, קהילות בן יעקב 11 אופקים']\n"
     ]
    }
   ],
   "source": [
    "patternName = r'המוסד:\\s*(.*?)(?=\\s+מנהל המוסד)'\n",
    "second_match=\"\"\n",
    "match1 = re.findall(patternName, rtl_text)\n",
    "print(\"סמל מוסד + כתובת\")\n",
    "print(match1)\n",
    "#if match1 and len(match1)>=2:\n",
    "#    second_match = match1[1].strip() \n",
    "#print(second_match)"
   ]
  },
  {
   "cell_type": "code",
   "execution_count": 112,
   "id": "19838307",
   "metadata": {},
   "outputs": [
    {
     "name": "stdout",
     "output_type": "stream",
     "text": [
      "קדימות1 :\n",
      "מס' נושא הבדיקה תת נושא מספר סעיף סעיף ברשימת מבדק הממצא מיקומו מהותו תמונה\n",
      "1 אלמנטים וחומרים  מפגעים קבועים 5.5   ארונות, ספריות וכונניות יהיו מקובעים למניעת התהפכות. ארון לא מקובע בממ\"ד  הגן וכו סכנת פגיעה  \n",
      "במבנה וניידים\n",
      "2 חצר המוסד שבילים    3.22השבילים משערי הכניסה לבניין, דרכי הגישה והשטחים בחצר  מהמורות שקעים בחצר חולית   סכנת מעידה 399849\n",
      "? כל אלה יהיו סלולים או מרוצפים או  כבושים, ללא מהמורות  וכו  בחצר המתקנים\n",
      "ובליטות, ופניהם מחוספסים, למניעת החלקה.\n",
      "3 חצר המוסד תשתית    3.4לא יהיו מקומות ללא ניקוז מתאים שיאפשרו שלוליות ומים  שלוליות מים  בחצר המתקנים סכנת פגיעה  \n",
      "עומדים. ללא ניקוז \n",
      "עמוד 2 מתוך 4 מדינת ישראל\n",
      " משרד החינוך תאריך הדפסה:17/02/2023 \n",
      "המוסד: 632083 עץ הדעת קהילות יעקב  מפקח בטיחות: חרדי\n",
      "קדימות1 :\n",
      "מס' נושא הבדיקה תת נושא מספר סעיף סעיף ברשימת מבדק הממצא מיקומו מהותו תמונה\n",
      "4 תכולה וארגון הכיתות אחסון חומרי  7.13 כל חומרי הניקוי והחיטוי יוחזקו בארון נפרד ונעול ומפתח הארון  חומרי ניקוי ללא  בארון מטבח  סכנת פגיעה  \n",
      "ניקוי יימצא בידי הגננת, בידי הסייעת ובידי אב הבית בלבד. אם אין  נעילה  בכיתת הגן\n",
      "ארון מיוחד לכך בגן, הם ידאגו, שחומרי הניקוי והחיטוי יימצאו \n",
      "מעבר להישג ידם של הילדים ובנפרד ממזון, וכן שיהיו מאוחסנים \n",
      "באופן שאין חשש של נפילה או שפיכה.\n",
      "קדימות2 :\n",
      "מס' נושא הבדיקה תת נושא מספר סעיף סעיף ברשימת מבדק הממצא מיקומו מהותו תמונה\n",
      "1 תכולה וארגון הכיתות בניין וכיתות גן  7.3  שולחנות ופרטי ריהוט אחרים יהיו בעלי פינות מעוגלות. עשויים  ריהוט  עם פינות  בכיתת הגן   \n",
      "הילדים מחומר לא שביר. חדות  בחלקו\n",
      "הערה לפרטי המסגרת: קהילות יעקב  9 הגננת  נחמה לרר \n",
      "הערות:  \n",
      "סיכום: א. הכיתות  בקומפלקס מבנה גנים , שניה  מימין לשער כניסה לגנים מימין , לגן חצר מתקנים נפרדת .\n",
      "ב לא הוצגו אישורים נדרשים .\n",
      "ג. באחריות ההנהלה/בעלות לוודא  בכול עת קיום /ותקינות אלמנטים  למניעת פגיעה באצבעות בדלתות.\n",
      "ד  לתשומת לב מקבל מבדק זה מבדק/בקרה   מדגמי בלבד ... ואינו בא במקום המבדק  שעל הרשות/בעלות לבצע . \n",
      "בברכה,\n",
      "מבצע המבדק יועץ הבטיחות: רחמים יצחק\n",
      "עמוד 3 מתוך 4 מדינת ישראל\n",
      " משרד החינוך תאריך הדפסה:17/02/2023 \n",
      "המוסד: 632083 עץ הדעת קהילות יעקב  מפקח בטיחות: חרדי\n",
      "קדימות   1 מס'399849 \n",
      "תאור : מהמורות שקעים וכו  \n",
      "עמוד 4 מתוך 4\n"
     ]
    }
   ],
   "source": [
    "patternProblem = 'פירוט הממצאים'\n",
    "\n",
    "extracted_text=\"\"\n",
    "\n",
    "start_index = rtl_text.find(patternProblem)\n",
    "#print(start_index)\n",
    "if start_index != -1:\n",
    "    extracted_text = rtl_text[start_index + len(patternProblem):].strip()\n",
    "print(extracted_text)"
   ]
  },
  {
   "cell_type": "code",
   "execution_count": 113,
   "id": "cc16d296",
   "metadata": {},
   "outputs": [
    {
     "name": "stdout",
     "output_type": "stream",
     "text": [
      "None\n"
     ]
    }
   ],
   "source": [
    "patternK1 = r'קדימות1 : (.*?) קדימות2 :'\n",
    "matchK1 = re.search(patternK1, extracted_text, re.DOTALL)\n",
    "print(matchK1)\n",
    "if matchK1:\n",
    "    K1 = matchK1.group(1)\n",
    "    print(K1)"
   ]
  },
  {
   "cell_type": "code",
   "execution_count": 158,
   "id": "120194a5",
   "metadata": {
    "scrolled": false
   },
   "outputs": [
    {
     "name": "stdout",
     "output_type": "stream",
     "text": [
      "מס' נושא הבדיקה תת נושא מספר סעיף סעיף ברשימת מבדק הממצא מיקומו מהותו תמונה\n",
      "1 אלמנטים וחומרים  מפגעים קבועים 5.5   ארונות, ספריות וכונניות יהיו מקובעים למניעת התהפכות. ארון לא מקובע בממ\"ד  הגן וכו סכנת פגיעה  \n",
      "במבנה וניידים\n",
      "2 חצר המוסד שבילים    3.22השבילים משערי הכניסה לבניין, דרכי הגישה והשטחים בחצר  מהמורות שקעים בחצר חולית   סכנת מעידה 399849\n",
      "? כל אלה יהיו סלולים או מרוצפים או  כבושים, ללא מהמורות  וכו  בחצר המתקנים\n",
      "ובליטות, ופניהם מחוספסים, למניעת החלקה.\n",
      "3 חצר המוסד תשתית    3.4לא יהיו מקומות ללא ניקוז מתאים שיאפשרו שלוליות ומים  שלוליות מים  בחצר המתקנים סכנת פגיעה  \n",
      "עומדים. ללא ניקוז \n",
      "עמוד 2 מתוך 4 מדינת ישראל\n",
      " משרד החינוך תאריך הדפסה:17/02/2023 \n",
      "המוסד: 632083 עץ הדעת קהילות יעקב  מפקח בטיחות: חרדי\n",
      "קדימות1 :\n",
      "מס' נושא הבדיקה תת נושא מספר סעיף סעיף ברשימת מבדק הממצא מיקומו מהותו תמונה\n",
      "4 תכולה וארגון הכיתות אחסון חומרי  7.13 כל חומרי הניקוי והחיטוי יוחזקו בארון נפרד ונעול ומפתח הארון  חומרי ניקוי ללא  בארון מטבח  סכנת פגיעה  \n",
      "ניקוי יימצא בידי הגננת, בידי הסייעת ובידי אב הבית בלבד. אם אין  נעילה  בכיתת הגן\n",
      "ארון מיוחד לכך בגן, הם ידאגו, שחומרי הניקוי והחיטוי יימצאו \n",
      "מעבר להישג ידם של הילדים ובנפרד ממזון, וכן שיהיו מאוחסנים \n",
      "באופן שאין חשש של נפילה או שפיכה.\n"
     ]
    }
   ],
   "source": [
    "start_tag = 'קדימות1 :'\n",
    "end_tag = 'קדימות2 :'\n",
    "\n",
    "start_indexK1 = extracted_text.find(start_tag)\n",
    "end_index = extracted_text.find(end_tag)\n",
    "\n",
    "if start_indexK1 != -1 and end_index != -1:\n",
    "    extracted_textK1 = extracted_text[start_indexK1 + len(start_tag):end_index].strip()\n",
    "    print(extracted_textK1)"
   ]
  },
  {
   "cell_type": "code",
   "execution_count": 160,
   "id": "f95b3a2c",
   "metadata": {},
   "outputs": [
    {
     "name": "stdout",
     "output_type": "stream",
     "text": [
      "1 אלמנטים וחומרים  מפגעים קבועים 5.5   ארונות, ספריות וכונניות יהיו מקובעים למניעת התהפכות. ארון לא מקובע בממ\"ד  הגן וכו סכנת פגיעה\n",
      "2 חצר המוסד שבילים    3.22השבילים משערי הכניסה לבניין, דרכי הגישה והשטחים בחצר  מהמורות שקעים בחצר חולית   סכנת מעידה 399849\n",
      "3 חצר המוסד תשתית    3.4לא יהיו מקומות ללא ניקוז מתאים שיאפשרו שלוליות ומים  שלוליות מים  בחצר המתקנים סכנת פגיעה\n",
      "4 תכולה וארגון הכיתות אחסון חומרי  7.13 כל חומרי הניקוי והחיטוי יוחזקו בארון נפרד ונעול ומפתח הארון  חומרי ניקוי ללא  בארון מטבח  סכנת פגיעה\n"
     ]
    }
   ],
   "source": [
    "import re\n",
    "\n",
    "patternK12 = r\"(?<!\\d )\\d+ [^\\n]+(?:\\n.+)??\"\n",
    "matches1K12 = re.findall(patternK12, extracted_textK1)\n",
    "\n",
    "# Print the extracted sections\n",
    "for match in matches1K12:\n",
    "    if match.strip() not in ['2 מתוך 4 מדינת ישראל', '632083 עץ הדעת קהילות יעקב  מפקח בטיחות: חרדי', '1 :']:\n",
    "        print(match.strip())\n"
   ]
  },
  {
   "cell_type": "code",
   "execution_count": null,
   "id": "ef503308",
   "metadata": {},
   "outputs": [],
   "source": []
  }
 ],
 "metadata": {
  "kernelspec": {
   "display_name": "Python 3 (ipykernel)",
   "language": "python",
   "name": "python3"
  },
  "language_info": {
   "codemirror_mode": {
    "name": "ipython",
    "version": 3
   },
   "file_extension": ".py",
   "mimetype": "text/x-python",
   "name": "python",
   "nbconvert_exporter": "python",
   "pygments_lexer": "ipython3",
   "version": "3.9.7"
  }
 },
 "nbformat": 4,
 "nbformat_minor": 5
}
